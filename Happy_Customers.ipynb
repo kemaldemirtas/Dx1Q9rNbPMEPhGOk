{
 "cells": [
  {
   "cell_type": "code",
   "execution_count": 3,
   "id": "8b527aa2",
   "metadata": {},
   "outputs": [
    {
     "data": {
      "text/plain": [
       "(126, 7)"
      ]
     },
     "execution_count": 3,
     "metadata": {},
     "output_type": "execute_result"
    }
   ],
   "source": [
    "import pandas as pd\n",
    "data_frame = pd.read_csv('ACME-HappinessSurvey2020.csv')\n",
    "data_frame.shape"
   ]
  },
  {
   "cell_type": "code",
   "execution_count": 4,
   "id": "0f6c8cae",
   "metadata": {},
   "outputs": [
    {
     "data": {
      "text/html": [
       "<div>\n",
       "<style scoped>\n",
       "    .dataframe tbody tr th:only-of-type {\n",
       "        vertical-align: middle;\n",
       "    }\n",
       "\n",
       "    .dataframe tbody tr th {\n",
       "        vertical-align: top;\n",
       "    }\n",
       "\n",
       "    .dataframe thead th {\n",
       "        text-align: right;\n",
       "    }\n",
       "</style>\n",
       "<table border=\"1\" class=\"dataframe\">\n",
       "  <thead>\n",
       "    <tr style=\"text-align: right;\">\n",
       "      <th></th>\n",
       "      <th>Y</th>\n",
       "      <th>X1</th>\n",
       "      <th>X2</th>\n",
       "      <th>X3</th>\n",
       "      <th>X4</th>\n",
       "      <th>X5</th>\n",
       "      <th>X6</th>\n",
       "    </tr>\n",
       "  </thead>\n",
       "  <tbody>\n",
       "    <tr>\n",
       "      <th>count</th>\n",
       "      <td>69.0</td>\n",
       "      <td>69.000000</td>\n",
       "      <td>69.000000</td>\n",
       "      <td>69.000000</td>\n",
       "      <td>69.000000</td>\n",
       "      <td>69.000000</td>\n",
       "      <td>69.000000</td>\n",
       "    </tr>\n",
       "    <tr>\n",
       "      <th>mean</th>\n",
       "      <td>1.0</td>\n",
       "      <td>4.536232</td>\n",
       "      <td>2.507246</td>\n",
       "      <td>3.449275</td>\n",
       "      <td>3.797101</td>\n",
       "      <td>3.884058</td>\n",
       "      <td>4.376812</td>\n",
       "    </tr>\n",
       "    <tr>\n",
       "      <th>std</th>\n",
       "      <td>0.0</td>\n",
       "      <td>0.698311</td>\n",
       "      <td>1.106441</td>\n",
       "      <td>1.022342</td>\n",
       "      <td>0.900649</td>\n",
       "      <td>1.064621</td>\n",
       "      <td>0.768908</td>\n",
       "    </tr>\n",
       "    <tr>\n",
       "      <th>min</th>\n",
       "      <td>1.0</td>\n",
       "      <td>3.000000</td>\n",
       "      <td>1.000000</td>\n",
       "      <td>1.000000</td>\n",
       "      <td>1.000000</td>\n",
       "      <td>1.000000</td>\n",
       "      <td>1.000000</td>\n",
       "    </tr>\n",
       "    <tr>\n",
       "      <th>25%</th>\n",
       "      <td>1.0</td>\n",
       "      <td>4.000000</td>\n",
       "      <td>2.000000</td>\n",
       "      <td>3.000000</td>\n",
       "      <td>3.000000</td>\n",
       "      <td>3.000000</td>\n",
       "      <td>4.000000</td>\n",
       "    </tr>\n",
       "    <tr>\n",
       "      <th>50%</th>\n",
       "      <td>1.0</td>\n",
       "      <td>5.000000</td>\n",
       "      <td>2.000000</td>\n",
       "      <td>3.000000</td>\n",
       "      <td>4.000000</td>\n",
       "      <td>4.000000</td>\n",
       "      <td>5.000000</td>\n",
       "    </tr>\n",
       "    <tr>\n",
       "      <th>75%</th>\n",
       "      <td>1.0</td>\n",
       "      <td>5.000000</td>\n",
       "      <td>3.000000</td>\n",
       "      <td>4.000000</td>\n",
       "      <td>4.000000</td>\n",
       "      <td>5.000000</td>\n",
       "      <td>5.000000</td>\n",
       "    </tr>\n",
       "    <tr>\n",
       "      <th>max</th>\n",
       "      <td>1.0</td>\n",
       "      <td>5.000000</td>\n",
       "      <td>5.000000</td>\n",
       "      <td>5.000000</td>\n",
       "      <td>5.000000</td>\n",
       "      <td>5.000000</td>\n",
       "      <td>5.000000</td>\n",
       "    </tr>\n",
       "  </tbody>\n",
       "</table>\n",
       "</div>"
      ],
      "text/plain": [
       "          Y         X1         X2         X3         X4         X5         X6\n",
       "count  69.0  69.000000  69.000000  69.000000  69.000000  69.000000  69.000000\n",
       "mean    1.0   4.536232   2.507246   3.449275   3.797101   3.884058   4.376812\n",
       "std     0.0   0.698311   1.106441   1.022342   0.900649   1.064621   0.768908\n",
       "min     1.0   3.000000   1.000000   1.000000   1.000000   1.000000   1.000000\n",
       "25%     1.0   4.000000   2.000000   3.000000   3.000000   3.000000   4.000000\n",
       "50%     1.0   5.000000   2.000000   3.000000   4.000000   4.000000   5.000000\n",
       "75%     1.0   5.000000   3.000000   4.000000   4.000000   5.000000   5.000000\n",
       "max     1.0   5.000000   5.000000   5.000000   5.000000   5.000000   5.000000"
      ]
     },
     "execution_count": 4,
     "metadata": {},
     "output_type": "execute_result"
    }
   ],
   "source": [
    "happy = data_frame[data_frame[\"Y\"]==1]\n",
    "happy.describe()"
   ]
  },
  {
   "cell_type": "code",
   "execution_count": 5,
   "id": "430fa5a3",
   "metadata": {},
   "outputs": [
    {
     "data": {
      "text/html": [
       "<div>\n",
       "<style scoped>\n",
       "    .dataframe tbody tr th:only-of-type {\n",
       "        vertical-align: middle;\n",
       "    }\n",
       "\n",
       "    .dataframe tbody tr th {\n",
       "        vertical-align: top;\n",
       "    }\n",
       "\n",
       "    .dataframe thead th {\n",
       "        text-align: right;\n",
       "    }\n",
       "</style>\n",
       "<table border=\"1\" class=\"dataframe\">\n",
       "  <thead>\n",
       "    <tr style=\"text-align: right;\">\n",
       "      <th></th>\n",
       "      <th>Y</th>\n",
       "      <th>X1</th>\n",
       "      <th>X2</th>\n",
       "      <th>X3</th>\n",
       "      <th>X4</th>\n",
       "      <th>X5</th>\n",
       "      <th>X6</th>\n",
       "    </tr>\n",
       "  </thead>\n",
       "  <tbody>\n",
       "    <tr>\n",
       "      <th>count</th>\n",
       "      <td>57.0</td>\n",
       "      <td>57.000000</td>\n",
       "      <td>57.000000</td>\n",
       "      <td>57.000000</td>\n",
       "      <td>57.000000</td>\n",
       "      <td>57.000000</td>\n",
       "      <td>57.000000</td>\n",
       "    </tr>\n",
       "    <tr>\n",
       "      <th>mean</th>\n",
       "      <td>0.0</td>\n",
       "      <td>4.087719</td>\n",
       "      <td>2.561404</td>\n",
       "      <td>3.140351</td>\n",
       "      <td>3.684211</td>\n",
       "      <td>3.368421</td>\n",
       "      <td>4.105263</td>\n",
       "    </tr>\n",
       "    <tr>\n",
       "      <th>std</th>\n",
       "      <td>0.0</td>\n",
       "      <td>0.851064</td>\n",
       "      <td>1.134170</td>\n",
       "      <td>1.007802</td>\n",
       "      <td>0.848484</td>\n",
       "      <td>1.189712</td>\n",
       "      <td>0.838455</td>\n",
       "    </tr>\n",
       "    <tr>\n",
       "      <th>min</th>\n",
       "      <td>0.0</td>\n",
       "      <td>1.000000</td>\n",
       "      <td>1.000000</td>\n",
       "      <td>1.000000</td>\n",
       "      <td>2.000000</td>\n",
       "      <td>1.000000</td>\n",
       "      <td>2.000000</td>\n",
       "    </tr>\n",
       "    <tr>\n",
       "      <th>25%</th>\n",
       "      <td>0.0</td>\n",
       "      <td>4.000000</td>\n",
       "      <td>2.000000</td>\n",
       "      <td>3.000000</td>\n",
       "      <td>3.000000</td>\n",
       "      <td>3.000000</td>\n",
       "      <td>3.000000</td>\n",
       "    </tr>\n",
       "    <tr>\n",
       "      <th>50%</th>\n",
       "      <td>0.0</td>\n",
       "      <td>4.000000</td>\n",
       "      <td>3.000000</td>\n",
       "      <td>3.000000</td>\n",
       "      <td>4.000000</td>\n",
       "      <td>4.000000</td>\n",
       "      <td>4.000000</td>\n",
       "    </tr>\n",
       "    <tr>\n",
       "      <th>75%</th>\n",
       "      <td>0.0</td>\n",
       "      <td>5.000000</td>\n",
       "      <td>3.000000</td>\n",
       "      <td>4.000000</td>\n",
       "      <td>4.000000</td>\n",
       "      <td>4.000000</td>\n",
       "      <td>5.000000</td>\n",
       "    </tr>\n",
       "    <tr>\n",
       "      <th>max</th>\n",
       "      <td>0.0</td>\n",
       "      <td>5.000000</td>\n",
       "      <td>5.000000</td>\n",
       "      <td>5.000000</td>\n",
       "      <td>5.000000</td>\n",
       "      <td>5.000000</td>\n",
       "      <td>5.000000</td>\n",
       "    </tr>\n",
       "  </tbody>\n",
       "</table>\n",
       "</div>"
      ],
      "text/plain": [
       "          Y         X1         X2         X3         X4         X5         X6\n",
       "count  57.0  57.000000  57.000000  57.000000  57.000000  57.000000  57.000000\n",
       "mean    0.0   4.087719   2.561404   3.140351   3.684211   3.368421   4.105263\n",
       "std     0.0   0.851064   1.134170   1.007802   0.848484   1.189712   0.838455\n",
       "min     0.0   1.000000   1.000000   1.000000   2.000000   1.000000   2.000000\n",
       "25%     0.0   4.000000   2.000000   3.000000   3.000000   3.000000   3.000000\n",
       "50%     0.0   4.000000   3.000000   3.000000   4.000000   4.000000   4.000000\n",
       "75%     0.0   5.000000   3.000000   4.000000   4.000000   4.000000   5.000000\n",
       "max     0.0   5.000000   5.000000   5.000000   5.000000   5.000000   5.000000"
      ]
     },
     "execution_count": 5,
     "metadata": {},
     "output_type": "execute_result"
    }
   ],
   "source": [
    "unhappy = data_frame[data_frame[\"Y\"]==0]\n",
    "unhappy.describe()"
   ]
  },
  {
   "cell_type": "code",
   "execution_count": 6,
   "id": "8599c2cf",
   "metadata": {},
   "outputs": [],
   "source": [
    "#Questions in the happy customers group are separated.\n",
    "happy1 = pd.DataFrame(happy, columns = ['X1'])\n",
    "happy2 = pd.DataFrame(happy, columns = ['X2'])\n",
    "happy3 = pd.DataFrame(happy, columns = ['X3'])\n",
    "happy4 = pd.DataFrame(happy, columns = ['X4'])\n",
    "happy5 = pd.DataFrame(happy, columns = ['X5'])\n",
    "happy6 = pd.DataFrame(happy, columns = ['X6'])"
   ]
  },
  {
   "cell_type": "code",
   "execution_count": 15,
   "id": "05aeec39",
   "metadata": {},
   "outputs": [],
   "source": [
    "#People are divided into three groups according to their answers.\n",
    "#(4-5): satisfied\n",
    "#3: moderate\n",
    "#(1-2): unsatisfied\n",
    "sa_happy1 = happy1[happy1[\"X1\"]>=4] #happy customers which are satisfied with X1\n",
    "m_happy1 = happy1[happy1[\"X1\"]==3] #happy customers which finds X1 moderate\n",
    "unsa_happy1 = happy1[happy1[\"X1\"]<3] #happy customers which are unsatisfied with X1\n",
    "#Number of satisfied, moderate and unsatisfied customers are assigned to corresponding variables.\n",
    "number_of_satisfiedhappy1 = sa_happy1.shape[0]\n",
    "number_of_moderatehappy1 = m_happy1.shape[0]\n",
    "number_of_unsatisfiedhappy1 = unsa_happy1.shape[0]"
   ]
  },
  {
   "cell_type": "code",
   "execution_count": 16,
   "id": "d9d3eca9",
   "metadata": {},
   "outputs": [],
   "source": [
    "sa_happy2 = happy2[happy2[\"X2\"]>=4]\n",
    "m_happy2 = happy2[happy2[\"X2\"]==3]\n",
    "unsa_happy2 = happy2[happy2[\"X2\"]<3]\n",
    "number_of_satisfiedhappy2 = sa_happy2.shape[0]\n",
    "number_of_moderatehappy2 = m_happy2.shape[0]\n",
    "number_of_unsatisfiedhappy2 = unsa_happy2.shape[0]"
   ]
  },
  {
   "cell_type": "code",
   "execution_count": 17,
   "id": "33b55d57",
   "metadata": {},
   "outputs": [],
   "source": [
    "sa_happy3 = happy3[happy3[\"X3\"]>=4]\n",
    "m_happy3 = happy3[happy3[\"X3\"]==3]\n",
    "unsa_happy3 = happy3[happy3[\"X3\"]<3]\n",
    "number_of_satisfiedhappy3 = sa_happy3.shape[0]\n",
    "number_of_moderatehappy3 = m_happy3.shape[0]\n",
    "number_of_unsatisfiedhappy3 = unsa_happy3.shape[0]"
   ]
  },
  {
   "cell_type": "code",
   "execution_count": 18,
   "id": "ab898fa5",
   "metadata": {},
   "outputs": [],
   "source": [
    "sa_happy4 = happy4[happy4[\"X4\"]>=4]\n",
    "m_happy4 = happy4[happy4[\"X4\"]==3]\n",
    "unsa_happy4 = happy4[happy4[\"X4\"]<3]\n",
    "number_of_satisfiedhappy4 = sa_happy4.shape[0]\n",
    "number_of_moderatehappy4 = m_happy4.shape[0]\n",
    "number_of_unsatisfiedhappy4 = unsa_happy4.shape[0]"
   ]
  },
  {
   "cell_type": "code",
   "execution_count": 19,
   "id": "17508467",
   "metadata": {},
   "outputs": [],
   "source": [
    "sa_happy5 = happy5[happy5[\"X5\"]>=4]\n",
    "m_happy5 = happy5[happy5[\"X5\"]==3]\n",
    "unsa_happy5 = happy5[happy5[\"X5\"]<3]\n",
    "number_of_satisfiedhappy5 = sa_happy5.shape[0]\n",
    "number_of_moderatehappy5 = m_happy5.shape[0]\n",
    "number_of_unsatisfiedhappy5 = unsa_happy5.shape[0]"
   ]
  },
  {
   "cell_type": "code",
   "execution_count": 20,
   "id": "3f561c30",
   "metadata": {},
   "outputs": [],
   "source": [
    "sa_happy6 = happy6[happy6[\"X6\"]>=4]\n",
    "m_happy6 = happy6[happy6[\"X6\"]==3]\n",
    "unsa_happy6 = happy6[happy6[\"X6\"]<3]\n",
    "number_of_satisfiedhappy6 = sa_happy6.shape[0]\n",
    "number_of_moderatehappy6 = m_happy6.shape[0]\n",
    "number_of_unsatisfiedhappy6 = unsa_happy6.shape[0]"
   ]
  },
  {
   "cell_type": "code",
   "execution_count": 22,
   "id": "711dcf9d",
   "metadata": {},
   "outputs": [],
   "source": [
    "#Questions in the unhappy customers group are separated.\n",
    "unhappy1 = pd.DataFrame(happy, columns = ['X1'])\n",
    "unhappy2 = pd.DataFrame(happy, columns = ['X2'])\n",
    "unhappy3 = pd.DataFrame(happy, columns = ['X3'])\n",
    "unhappy4 = pd.DataFrame(happy, columns = ['X4'])\n",
    "unhappy5 = pd.DataFrame(happy, columns = ['X5'])\n",
    "unhappy6 = pd.DataFrame(happy, columns = ['X6'])"
   ]
  },
  {
   "cell_type": "code",
   "execution_count": 29,
   "id": "21d61af2",
   "metadata": {},
   "outputs": [],
   "source": [
    "sa_unhappy1 = unhappy1[unhappy1[\"X1\"]>=4] #unhappy customers which are satisfied with X1\n",
    "m_unhappy1 = unhappy1[unhappy1[\"X1\"]==3] #unhappy customers which finds X1 moderate\n",
    "unsa_unhappy1 = unhappy1[unhappy1[\"X1\"]<3] #unhappy customers which are unsatisfied with X1\n",
    "number_of_satisfiedunhappy1 = sa_unhappy1.shape[0]\n",
    "number_of_moderateunhappy1 = m_unhappy1.shape[0]\n",
    "number_of_unsatisfiedunhappy1 = unsa_unhappy1.shape[0]"
   ]
  },
  {
   "cell_type": "code",
   "execution_count": 30,
   "id": "e45eb544",
   "metadata": {},
   "outputs": [],
   "source": [
    "sa_unhappy2 = unhappy2[unhappy2[\"X2\"]>=4]\n",
    "m_unhappy2 = unhappy2[unhappy2[\"X2\"]==3]\n",
    "unsa_unhappy2 = unhappy2[unhappy2[\"X2\"]<3]\n",
    "number_of_satisfiedunhappy2 = sa_unhappy2.shape[0]\n",
    "number_of_moderateunhappy2 = m_unhappy2.shape[0]\n",
    "number_of_unsatisfiedunhappy2 = unsa_unhappy2.shape[0]"
   ]
  },
  {
   "cell_type": "code",
   "execution_count": 31,
   "id": "8109f8f0",
   "metadata": {},
   "outputs": [],
   "source": [
    "sa_unhappy3 = unhappy3[unhappy3[\"X3\"]>=4]\n",
    "m_unhappy3 = unhappy3[unhappy3[\"X3\"]==3]\n",
    "unsa_unhappy3 = unhappy3[unhappy3[\"X3\"]<3]\n",
    "number_of_satisfiedunhappy3 = sa_unhappy3.shape[0]\n",
    "number_of_moderateunhappy3 = m_unhappy3.shape[0]\n",
    "number_of_unsatisfiedunhappy3 = unsa_unhappy3.shape[0]"
   ]
  },
  {
   "cell_type": "code",
   "execution_count": 32,
   "id": "6d9abcdd",
   "metadata": {},
   "outputs": [],
   "source": [
    "sa_unhappy4 = unhappy4[unhappy4[\"X4\"]>=4]\n",
    "m_unhappy4 = unhappy4[unhappy4[\"X4\"]==3]\n",
    "unsa_unhappy4 = unhappy4[unhappy4[\"X4\"]<3]\n",
    "number_of_satisfiedunhappy4 = sa_unhappy4.shape[0]\n",
    "number_of_moderateunhappy4 = m_unhappy4.shape[0]\n",
    "number_of_unsatisfiedunhappy4 = unsa_unhappy4.shape[0]"
   ]
  },
  {
   "cell_type": "code",
   "execution_count": 33,
   "id": "bce00d39",
   "metadata": {},
   "outputs": [],
   "source": [
    "sa_unhappy5 = unhappy5[unhappy5[\"X5\"]>=4]\n",
    "m_unhappy5 = unhappy5[unhappy5[\"X5\"]==3]\n",
    "unsa_unhappy5 = unhappy5[unhappy5[\"X5\"]<3]\n",
    "number_of_satisfiedunhappy5 = sa_unhappy5.shape[0]\n",
    "number_of_moderateunhappy5 = m_unhappy5.shape[0]\n",
    "number_of_unsatisfiedunhappy5 = unsa_unhappy5.shape[0]"
   ]
  },
  {
   "cell_type": "code",
   "execution_count": 34,
   "id": "fe690c3e",
   "metadata": {},
   "outputs": [],
   "source": [
    "sa_unhappy6 = unhappy6[unhappy6[\"X6\"]>=4]\n",
    "m_unhappy6 = unhappy6[unhappy6[\"X6\"]==3]\n",
    "unsa_unhappy6 = unhappy6[unhappy6[\"X6\"]<3]\n",
    "number_of_satisfiedunhappy6 = sa_unhappy6.shape[0]\n",
    "number_of_moderateunhappy6 = m_unhappy6.shape[0]\n",
    "number_of_unsatisfiedunhappy6 = unsa_unhappy6.shape[0]"
   ]
  },
  {
   "cell_type": "code",
   "execution_count": 36,
   "id": "5ac69884",
   "metadata": {},
   "outputs": [],
   "source": [
    "number_of_happy = happy.shape[0]\n",
    "number_of_unhappy = unhappy.shape[0]"
   ]
  },
  {
   "cell_type": "code",
   "execution_count": 37,
   "id": "d45c3637",
   "metadata": {},
   "outputs": [],
   "source": [
    "#Percentages of satisfied, moderate and unsatisfied among happy customers are calculated.\n",
    "percentage_happy1 = [number_of_satisfiedhappy1 * 100 / number_of_happy,number_of_moderatehappy1 * 100 / number_of_happy,number_of_unsatisfiedhappy1 * 100 / number_of_happy]\n",
    "percentage_happy2 = [number_of_satisfiedhappy2 * 100 / number_of_happy,number_of_moderatehappy2 * 100 / number_of_happy,number_of_unsatisfiedhappy2 * 100 / number_of_happy]\n",
    "percentage_happy3 = [number_of_satisfiedhappy3 * 100 / number_of_happy,number_of_moderatehappy3 * 100 / number_of_happy,number_of_unsatisfiedhappy3 * 100 / number_of_happy]\n",
    "percentage_happy4 = [number_of_satisfiedhappy4 * 100 / number_of_happy,number_of_moderatehappy4 * 100 / number_of_happy,number_of_unsatisfiedhappy4 * 100 / number_of_happy]\n",
    "percentage_happy5 = [number_of_satisfiedhappy5 * 100 / number_of_happy,number_of_moderatehappy5 * 100 / number_of_happy,number_of_unsatisfiedhappy5 * 100 / number_of_happy]\n",
    "percentage_happy6 = [number_of_satisfiedhappy6 * 100 / number_of_happy,number_of_moderatehappy6 * 100 / number_of_happy,number_of_unsatisfiedhappy6 * 100 / number_of_happy]"
   ]
  },
  {
   "cell_type": "code",
   "execution_count": 39,
   "id": "65796ace",
   "metadata": {},
   "outputs": [],
   "source": [
    "#Percentages of satisfied, moderate and unsatisfied among unhappy customers are calculated.\n",
    "percentage_unhappy1 = [number_of_satisfiedunhappy1 * 100 / number_of_unhappy,number_of_moderateunhappy1 * 100 / number_of_unhappy,number_of_unsatisfiedunhappy1 * 100 / number_of_unhappy]\n",
    "percentage_unhappy2 = [number_of_satisfiedunhappy2 * 100 / number_of_unhappy,number_of_moderateunhappy2 * 100 / number_of_unhappy,number_of_unsatisfiedunhappy2 * 100 / number_of_unhappy]\n",
    "percentage_unhappy3 = [number_of_satisfiedunhappy3 * 100 / number_of_unhappy,number_of_moderateunhappy3 * 100 / number_of_unhappy,number_of_unsatisfiedunhappy3 * 100 / number_of_unhappy]\n",
    "percentage_unhappy4 = [number_of_satisfiedunhappy4 * 100 / number_of_unhappy,number_of_moderateunhappy4 * 100 / number_of_unhappy,number_of_unsatisfiedunhappy4 * 100 / number_of_unhappy]\n",
    "percentage_unhappy5 = [number_of_satisfiedunhappy5 * 100 / number_of_unhappy,number_of_moderateunhappy5 * 100 / number_of_unhappy,number_of_unsatisfiedunhappy5 * 100 / number_of_unhappy]\n",
    "percentage_unhappy6 = [number_of_satisfiedunhappy6 * 100 / number_of_unhappy,number_of_moderateunhappy6 * 100 / number_of_unhappy,number_of_unsatisfiedunhappy6 * 100 / number_of_unhappy]"
   ]
  },
  {
   "cell_type": "code",
   "execution_count": 42,
   "id": "8b76dbc1",
   "metadata": {},
   "outputs": [],
   "source": [
    "'''How weights are determined ?\n",
    "X1: Most of the customers happy and unhappy customers are satisfied with X1. What makes happy customers happy and what makes unhappy customers unhappy is not about X1 then. So, its weight is low.\n",
    "X2: Percentages between happy and unhappy customers are very close to each other. Thus, I assumed effect of X2 on average happiness point should be low.\n",
    "X3: There is an important difference between percentages of happy people that finds X3 moderate and unhappy ones. So, effect of X3 might be high.\n",
    "X4: Similar to X2.\n",
    "x5: There is a dramatic decrease at the percentage of satisfied people. Thus, its weight is high.\n",
    "X6: Similar to X3.\n",
    "'''\n",
    "data_frame['average point'] = data_frame['X1']*0.05 + data_frame['X2']*0.05 + data_frame['X3']*0.25 + data_frame['X4']*0.05 + data_frame['X5']*0.35 + data_frame['X6']*0.25\n"
   ]
  },
  {
   "cell_type": "code",
   "execution_count": 41,
   "id": "81218787",
   "metadata": {},
   "outputs": [
    {
     "data": {
      "text/html": [
       "<div>\n",
       "<style scoped>\n",
       "    .dataframe tbody tr th:only-of-type {\n",
       "        vertical-align: middle;\n",
       "    }\n",
       "\n",
       "    .dataframe tbody tr th {\n",
       "        vertical-align: top;\n",
       "    }\n",
       "\n",
       "    .dataframe thead th {\n",
       "        text-align: right;\n",
       "    }\n",
       "</style>\n",
       "<table border=\"1\" class=\"dataframe\">\n",
       "  <thead>\n",
       "    <tr style=\"text-align: right;\">\n",
       "      <th></th>\n",
       "      <th>Y</th>\n",
       "      <th>X1</th>\n",
       "      <th>X2</th>\n",
       "      <th>X3</th>\n",
       "      <th>X4</th>\n",
       "      <th>X5</th>\n",
       "      <th>X6</th>\n",
       "      <th>average point</th>\n",
       "    </tr>\n",
       "  </thead>\n",
       "  <tbody>\n",
       "    <tr>\n",
       "      <th>0</th>\n",
       "      <td>0</td>\n",
       "      <td>3</td>\n",
       "      <td>3</td>\n",
       "      <td>3</td>\n",
       "      <td>4</td>\n",
       "      <td>2</td>\n",
       "      <td>4</td>\n",
       "      <td>2.95</td>\n",
       "    </tr>\n",
       "    <tr>\n",
       "      <th>1</th>\n",
       "      <td>0</td>\n",
       "      <td>3</td>\n",
       "      <td>2</td>\n",
       "      <td>3</td>\n",
       "      <td>5</td>\n",
       "      <td>4</td>\n",
       "      <td>3</td>\n",
       "      <td>3.40</td>\n",
       "    </tr>\n",
       "    <tr>\n",
       "      <th>2</th>\n",
       "      <td>1</td>\n",
       "      <td>5</td>\n",
       "      <td>3</td>\n",
       "      <td>3</td>\n",
       "      <td>3</td>\n",
       "      <td>3</td>\n",
       "      <td>5</td>\n",
       "      <td>3.60</td>\n",
       "    </tr>\n",
       "    <tr>\n",
       "      <th>3</th>\n",
       "      <td>0</td>\n",
       "      <td>5</td>\n",
       "      <td>4</td>\n",
       "      <td>3</td>\n",
       "      <td>3</td>\n",
       "      <td>3</td>\n",
       "      <td>5</td>\n",
       "      <td>3.65</td>\n",
       "    </tr>\n",
       "    <tr>\n",
       "      <th>4</th>\n",
       "      <td>0</td>\n",
       "      <td>5</td>\n",
       "      <td>4</td>\n",
       "      <td>3</td>\n",
       "      <td>3</td>\n",
       "      <td>3</td>\n",
       "      <td>5</td>\n",
       "      <td>3.65</td>\n",
       "    </tr>\n",
       "    <tr>\n",
       "      <th>...</th>\n",
       "      <td>...</td>\n",
       "      <td>...</td>\n",
       "      <td>...</td>\n",
       "      <td>...</td>\n",
       "      <td>...</td>\n",
       "      <td>...</td>\n",
       "      <td>...</td>\n",
       "      <td>...</td>\n",
       "    </tr>\n",
       "    <tr>\n",
       "      <th>121</th>\n",
       "      <td>1</td>\n",
       "      <td>5</td>\n",
       "      <td>2</td>\n",
       "      <td>3</td>\n",
       "      <td>4</td>\n",
       "      <td>4</td>\n",
       "      <td>3</td>\n",
       "      <td>3.45</td>\n",
       "    </tr>\n",
       "    <tr>\n",
       "      <th>122</th>\n",
       "      <td>1</td>\n",
       "      <td>5</td>\n",
       "      <td>2</td>\n",
       "      <td>3</td>\n",
       "      <td>4</td>\n",
       "      <td>2</td>\n",
       "      <td>5</td>\n",
       "      <td>3.25</td>\n",
       "    </tr>\n",
       "    <tr>\n",
       "      <th>123</th>\n",
       "      <td>1</td>\n",
       "      <td>5</td>\n",
       "      <td>3</td>\n",
       "      <td>3</td>\n",
       "      <td>4</td>\n",
       "      <td>4</td>\n",
       "      <td>5</td>\n",
       "      <td>4.00</td>\n",
       "    </tr>\n",
       "    <tr>\n",
       "      <th>124</th>\n",
       "      <td>0</td>\n",
       "      <td>4</td>\n",
       "      <td>3</td>\n",
       "      <td>3</td>\n",
       "      <td>4</td>\n",
       "      <td>4</td>\n",
       "      <td>5</td>\n",
       "      <td>3.95</td>\n",
       "    </tr>\n",
       "    <tr>\n",
       "      <th>125</th>\n",
       "      <td>0</td>\n",
       "      <td>5</td>\n",
       "      <td>3</td>\n",
       "      <td>2</td>\n",
       "      <td>5</td>\n",
       "      <td>5</td>\n",
       "      <td>5</td>\n",
       "      <td>4.15</td>\n",
       "    </tr>\n",
       "  </tbody>\n",
       "</table>\n",
       "<p>126 rows × 8 columns</p>\n",
       "</div>"
      ],
      "text/plain": [
       "     Y  X1  X2  X3  X4  X5  X6  average point\n",
       "0    0   3   3   3   4   2   4           2.95\n",
       "1    0   3   2   3   5   4   3           3.40\n",
       "2    1   5   3   3   3   3   5           3.60\n",
       "3    0   5   4   3   3   3   5           3.65\n",
       "4    0   5   4   3   3   3   5           3.65\n",
       "..  ..  ..  ..  ..  ..  ..  ..            ...\n",
       "121  1   5   2   3   4   4   3           3.45\n",
       "122  1   5   2   3   4   2   5           3.25\n",
       "123  1   5   3   3   4   4   5           4.00\n",
       "124  0   4   3   3   4   4   5           3.95\n",
       "125  0   5   3   2   5   5   5           4.15\n",
       "\n",
       "[126 rows x 8 columns]"
      ]
     },
     "execution_count": 41,
     "metadata": {},
     "output_type": "execute_result"
    }
   ],
   "source": [
    "data_frame"
   ]
  },
  {
   "cell_type": "code",
   "execution_count": 48,
   "id": "78517b66",
   "metadata": {},
   "outputs": [
    {
     "name": "stdout",
     "output_type": "stream",
     "text": [
      "     Y  average point\n",
      "0    0           2.95\n",
      "1    0           3.40\n",
      "2    1           3.60\n",
      "3    0           3.65\n",
      "4    0           3.65\n",
      "..  ..            ...\n",
      "121  1           3.45\n",
      "122  1           3.25\n",
      "123  1           4.00\n",
      "124  0           3.95\n",
      "125  0           4.15\n",
      "\n",
      "[126 rows x 2 columns]\n"
     ]
    }
   ],
   "source": [
    "average_point = pd.DataFrame(data_frame, columns = ['Y','average point'])\n",
    "print(average_point)"
   ]
  },
  {
   "cell_type": "code",
   "execution_count": 59,
   "id": "379f7bad",
   "metadata": {},
   "outputs": [],
   "source": [
    "actual_happy = average_point[average_point[\"Y\"]==1]\n",
    "predicted_happy = actual_happy[actual_happy[\"average point\"]>=2.5]\n",
    "actual_unhappy = average_point[average_point[\"Y\"]==0]\n",
    "predicted_unhappy = actual_unhappy[actual_unhappy[\"average point\"]<2.5]"
   ]
  },
  {
   "cell_type": "code",
   "execution_count": 63,
   "id": "60316522",
   "metadata": {},
   "outputs": [],
   "source": [
    "correct_prediction = predicted_happy.shape[0] + predicted_unhappy.shape[0]"
   ]
  },
  {
   "cell_type": "code",
   "execution_count": 64,
   "id": "d87cfbd9",
   "metadata": {},
   "outputs": [
    {
     "data": {
      "text/plain": [
       "72"
      ]
     },
     "execution_count": 64,
     "metadata": {},
     "output_type": "execute_result"
    }
   ],
   "source": [
    "correct_prediction"
   ]
  },
  {
   "cell_type": "code",
   "execution_count": 65,
   "id": "8159464e",
   "metadata": {},
   "outputs": [],
   "source": [
    "accuracy = 100 * correct_prediction / data_frame.shape[0]"
   ]
  },
  {
   "cell_type": "code",
   "execution_count": 66,
   "id": "439b33d2",
   "metadata": {},
   "outputs": [
    {
     "data": {
      "text/plain": [
       "57.142857142857146"
      ]
     },
     "execution_count": 66,
     "metadata": {},
     "output_type": "execute_result"
    }
   ],
   "source": [
    "accuracy"
   ]
  },
  {
   "cell_type": "code",
   "execution_count": null,
   "id": "45afebeb",
   "metadata": {},
   "outputs": [],
   "source": []
  }
 ],
 "metadata": {
  "kernelspec": {
   "display_name": "Python 3",
   "language": "python",
   "name": "python3"
  },
  "language_info": {
   "codemirror_mode": {
    "name": "ipython",
    "version": 3
   },
   "file_extension": ".py",
   "mimetype": "text/x-python",
   "name": "python",
   "nbconvert_exporter": "python",
   "pygments_lexer": "ipython3",
   "version": "3.8.8"
  }
 },
 "nbformat": 4,
 "nbformat_minor": 5
}
